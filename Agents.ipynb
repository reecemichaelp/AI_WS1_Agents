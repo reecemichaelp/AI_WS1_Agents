{
  "nbformat": 4,
  "nbformat_minor": 0,
  "metadata": {
    "colab": {
      "provenance": [],
      "authorship_tag": "ABX9TyOP6i2pk8pq4HzYTA3VE8ps",
      "include_colab_link": true
    },
    "kernelspec": {
      "name": "python3",
      "display_name": "Python 3"
    },
    "language_info": {
      "name": "python"
    }
  },
  "cells": [
    {
      "cell_type": "markdown",
      "metadata": {
        "id": "view-in-github",
        "colab_type": "text"
      },
      "source": [
        "<a href=\"https://colab.research.google.com/github/reecemichaelp/semester2/blob/main/Agents.ipynb\" target=\"_parent\"><img src=\"https://colab.research.google.com/assets/colab-badge.svg\" alt=\"Open In Colab\"/></a>"
      ]
    },
    {
      "cell_type": "code",
      "execution_count": null,
      "metadata": {
        "id": "TgVLdZ7zYcir"
      },
      "outputs": [],
      "source": [
        "!rm -rf /content/*\n",
        "!wget https://github.com/aimacode/aima-python/archive/master.zip 2>/dev/null\n",
        "!unzip -q master.zip\n",
        "!mv aima-python-master/* /content\n",
        "!wget https://github.com/aimacode/aima-data/archive/f6cbea61ad0c21c6b7be826d17af5a8d3a7c2c86.zip 2>/dev/null\n",
        "!unzip -q f6cbea61ad0c21c6b7be826d17af5a8d3a7c2c86.zip\n",
        "!rm -rf aima-data\n",
        "!mv aima-data-f6cbea61ad0c21c6b7be826d17af5a8d3a7c2c86 aima-data\n",
        "#Install Libraries\n",
        "!pip install ipythonblocks 2>/dev/null"
      ]
    },
    {
      "cell_type": "code",
      "source": [
        "from agents import *\n",
        "\n",
        "class BlindDog(Agent):\n",
        "    def eat(self, thing):\n",
        "        print(\"Dog: Ate food at {}.\".format(self.location))\n",
        "\n",
        "    def drink(self, thing):\n",
        "        print(\"Dog: Drank water at {}.\".format(self.location))\n",
        "    \n",
        "dog = BlindDog()"
      ],
      "metadata": {
        "colab": {
          "base_uri": "https://localhost:8080/"
        },
        "id": "BLSL22k-cNMx",
        "outputId": "50f5f74e-3838-4117-cdf1-d52ca67cf334"
      },
      "execution_count": 14,
      "outputs": [
        {
          "output_type": "stream",
          "name": "stdout",
          "text": [
            "Can't find a valid program for BlindDog, falling back to default.\n"
          ]
        }
      ]
    },
    {
      "cell_type": "code",
      "source": [
        "print(dog.alive)"
      ],
      "metadata": {
        "colab": {
          "base_uri": "https://localhost:8080/"
        },
        "id": "0avWc1_4i6wG",
        "outputId": "46908999-8160-4f8d-b117-6c6b8f1aa9ab"
      },
      "execution_count": 16,
      "outputs": [
        {
          "output_type": "stream",
          "name": "stdout",
          "text": [
            "True\n"
          ]
        }
      ]
    },
    {
      "cell_type": "code",
      "source": [
        "class Food(Thing):\n",
        "  pass\n",
        "\n",
        "class Water(Thing):\n",
        "  pass\n",
        "\n",
        "class Park(Environment):\n",
        "  def percept(self, agent):\n",
        "    '''return a list of things that are in our agents location'''\n",
        "    things = self.list_things_at(agent.location)\n",
        "    return things\n",
        "\n",
        "  def execute_action(self, agent, action):\n",
        "    '''changes the state of the environment based on what the agent does'''\n",
        "    if action == \"move down\":\n",
        "      print('{} decided to {} at location: {}'.format(str(agent)[1:-1], action, agent.location))\n",
        "      agent.movedown()\n",
        "    elif action == \"eat\":\n",
        "      items = self.list_things_at(agent.location, tclass=Food)\n",
        "      if len(items) != 0:\n",
        "        if agent.eat(items[0]):#have the dog eat the first item\n",
        "          print('{} ate {} at location: {}'.format(str(agent)[1:-1], str(items[0])[1:-1], agent.location))\n",
        "          self.delete_thing(items[0]) #delete the item from the park after\n",
        "    elif action == \"drink\":\n",
        "      items = self.list_things_at(agent.location, tclass=Water)\n",
        "      if len(items) != 0:\n",
        "        if agent.drink(items[0]):#have the dog drink the first item\n",
        "          print('{} drank {} at location: {}'.format(str(agent)[1:-1], str(items[0])[1:-1], agent.location))\n",
        "          self.delete_thing(items[0]) #delete the item from the park after\n",
        "\n",
        "  def is_done(self):\n",
        "    '''by default, were done when we cant find a live agent,\n",
        "    but to prevent killing the dogm we will stop before itself, when there is no more food or water'''\n",
        "    no_edibles = not any(isinstance(thing, Food) or isinstance(thing, Water) for thing in self.things)\n",
        "    dead_agents = not any(agent.is_alive() for agent in self.agents)\n",
        "    return dead_agents or no_edibles\n",
        "\n",
        "\n",
        "          "
      ],
      "metadata": {
        "id": "aKuMrudE3TU9"
      },
      "execution_count": 26,
      "outputs": []
    },
    {
      "cell_type": "markdown",
      "source": [],
      "metadata": {
        "id": "q_I1ZEy69Hua"
      }
    },
    {
      "cell_type": "code",
      "source": [
        "class BlindDog(Agent):\n",
        "  location = 1\n",
        "\n",
        "  def movedown(self):\n",
        "    self.location += 1\n",
        "\n",
        "  def eat(self, thing):\n",
        "    '''returns trure upon sucess or false otherwise'''\n",
        "    if isinstance(thing, Food):\n",
        "      return True\n",
        "    return False\n",
        "\n",
        "  def drink(self, thing):\n",
        "    '''returns true upon success or Fasle otherwise'''\n",
        "    if isinstance(thing, Water):\n",
        "      return True \n",
        "    return False\n",
        "\n",
        "def program(percepts):\n",
        "    '''returns an action based on its percepts'''\n",
        "    for p in percepts:\n",
        "      if isinstance(p, Food):\n",
        "        return 'eat'\n",
        "      elif isinstance(p, Water):\n",
        "        return 'drink'\n",
        "    return 'move down'"
      ],
      "metadata": {
        "id": "aieGdk-Y6R3A"
      },
      "execution_count": 29,
      "outputs": []
    },
    {
      "cell_type": "code",
      "source": [
        "park = Park()\n",
        "dog = BlindDog(program)\n",
        "dogfood = Food()\n",
        "water = Water()\n",
        "park.add_thing(dog, 1)\n",
        "park.add_thing(dogfood, 5)\n",
        "park.add_thing(water, 7)\n",
        "\n",
        "park.run(5)\n",
        "\n"
      ],
      "metadata": {
        "colab": {
          "base_uri": "https://localhost:8080/"
        },
        "id": "OQLJhDFZ7Zva",
        "outputId": "06115d73-bb76-49a6-d2a6-5da044b4fdb3"
      },
      "execution_count": 30,
      "outputs": [
        {
          "output_type": "stream",
          "name": "stdout",
          "text": [
            "BlindDog decided to move down at location: 1\n",
            "BlindDog decided to move down at location: 2\n",
            "BlindDog decided to move down at location: 3\n",
            "BlindDog decided to move down at location: 4\n",
            "BlindDog ate Food at location: 5\n"
          ]
        }
      ]
    },
    {
      "cell_type": "code",
      "source": [
        "park.run(5)"
      ],
      "metadata": {
        "colab": {
          "base_uri": "https://localhost:8080/"
        },
        "id": "An9G5F4E902d",
        "outputId": "e472b5e5-33a1-4eb4-bf22-0dbf7af68c8b"
      },
      "execution_count": 31,
      "outputs": [
        {
          "output_type": "stream",
          "name": "stdout",
          "text": [
            "BlindDog decided to move down at location: 5\n",
            "BlindDog decided to move down at location: 6\n",
            "BlindDog drank Water at location: 7\n"
          ]
        }
      ]
    },
    {
      "cell_type": "code",
      "source": [
        "park.add_thing(water, 15)\n",
        "park.run(10)"
      ],
      "metadata": {
        "colab": {
          "base_uri": "https://localhost:8080/"
        },
        "id": "JmcUzqn_988A",
        "outputId": "4c7a3b71-2a87-4c32-a2f6-823db6ae3390"
      },
      "execution_count": 32,
      "outputs": [
        {
          "output_type": "stream",
          "name": "stdout",
          "text": [
            "BlindDog decided to move down at location: 7\n",
            "BlindDog decided to move down at location: 8\n",
            "BlindDog decided to move down at location: 9\n",
            "BlindDog decided to move down at location: 10\n",
            "BlindDog decided to move down at location: 11\n",
            "BlindDog decided to move down at location: 12\n",
            "BlindDog decided to move down at location: 13\n",
            "BlindDog decided to move down at location: 14\n",
            "BlindDog drank Water at location: 15\n"
          ]
        }
      ]
    }
  ]
}